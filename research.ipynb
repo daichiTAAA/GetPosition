{
 "cells": [
  {
   "cell_type": "markdown",
   "metadata": {},
   "source": [
    "# 実現方法調査"
   ]
  },
  {
   "cell_type": "markdown",
   "metadata": {},
   "source": [
    "[Qiita: Kaggle Image Matching Challenge 2022 まとめ](https://qiita.com/fam_taro/items/bdc47e944d4612a0eac1)  \n",
    "上の記事では基礎行列をDeep Learningで推定する方法を紹介している。  \n",
    "具体的には、LoFTR(Detector - Free Local Feature Matching with Transformers)を用いて、  \n",
    "２枚の画像から対応点を取得しcv2.findEssentialMat()で基礎行列を推定する。  \n",
    "下記の具体的なコードも紹介されている。  \n",
    "```\n",
    "import numpy as np\n",
    "import cv2\n",
    "import torch\n",
    "import kornia.feature as KF\n",
    "\n",
    "# Load model\n",
    "device = torch.device('cuda')\n",
    "matcher = KF.LoFTR(pretrained=None)\n",
    "matcher.load_state_dict(torch.load(\"../input/kornia-loftr/loftr_outdoor.ckpt\")['state_dict'])\n",
    "matcher = matcher.to(device).eval()\n",
    "\n",
    "# Inference\n",
    "F_dict = {}\n",
    "for i, sample_id, image0, image1 in enumerate(test_samples):    \n",
    "    with torch.no_grad():\n",
    "        correspondences = matcher(image0=image0, image1=image1)\n",
    "    \n",
    "    # 対応点\n",
    "    mkpts0 = correspondences['keypoints0'].cpu().numpy()\n",
    "    mkpts1 = correspondences['keypoints1'].cpu().numpy()\n",
    "    \n",
    "    # Calc fundamental matrix\n",
    "    if len(mkpts0) > 7:\n",
    "        F, _ = cv2.findFundamentalMat(mkpts0, mkpts1, cv2.USAC_MAGSAC, 0.25, 0.9999, 100000)\n",
    "        F_dict[sample_id] = F\n",
    "    else:\n",
    "        F_dict[sample_id] = np.zeros((3, 3))\n",
    "```"
   ]
  },
  {
   "cell_type": "markdown",
   "metadata": {},
   "source": [
    "[3次元コンピュータビジョン計算ハンドブック](https://www.amazon.co.jp/3%E6%AC%A1%E5%85%83%E3%82%B3%E3%83%B3%E3%83%94%E3%83%A5%E3%83%BC%E3%82%BF%E3%83%93%E3%82%B8%E3%83%A7%E3%83%B3%E8%A8%88%E7%AE%97%E3%83%8F%E3%83%B3%E3%83%89%E3%83%96%E3%83%83%E3%82%AF-%E9%87%91%E8%B0%B7-%E5%81%A5%E4%B8%80/dp/4627817916)  \n",
    "上の本には、下記の方法が記載されている。(p.75, 80~84)  \n",
    "1. 基礎行列から内部パラメータと外部パラメータを推定する方法 \n",
    "2. 内部パラメータと外部パラメータからカメラ行列を計算する方法\n",
    "3. カメラ行列を用いて２画像間の対応点から３次元座標を計算する方法\n",
    "* 1, 2のように基礎行列からカメラ行列を直接推定することを自己校正という\n",
    "* 3の方法は三角測量という"
   ]
  },
  {
   "cell_type": "markdown",
   "metadata": {},
   "source": []
  },
  {
   "cell_type": "code",
   "execution_count": null,
   "metadata": {},
   "outputs": [],
   "source": []
  }
 ],
 "metadata": {
  "kernelspec": {
   "display_name": "getposition",
   "language": "python",
   "name": "python3"
  },
  "language_info": {
   "codemirror_mode": {
    "name": "ipython",
    "version": 3
   },
   "file_extension": ".py",
   "mimetype": "text/x-python",
   "name": "python",
   "nbconvert_exporter": "python",
   "pygments_lexer": "ipython3",
   "version": "3.10.12"
  },
  "orig_nbformat": 4
 },
 "nbformat": 4,
 "nbformat_minor": 2
}
